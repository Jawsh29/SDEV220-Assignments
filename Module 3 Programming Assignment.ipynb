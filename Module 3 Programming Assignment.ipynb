{
 "cells": [
  {
   "metadata": {},
   "cell_type": "markdown",
   "source": "7.4,7.5,7.6,7.7",
   "id": "72124c3852369cb1"
  },
  {
   "cell_type": "code",
   "id": "initial_id",
   "metadata": {
    "collapsed": true,
    "ExecuteTime": {
     "end_time": "2025-02-04T04:39:03.933044Z",
     "start_time": "2025-02-04T04:39:03.928154Z"
    }
   },
   "source": [
    "things = [\"mozzarella\", \"cinderella\", \"salmonella\"]\n",
    "things[1] = \"Cinderella\"\n",
    "things[0] = \"MOZZARELLA\"\n",
    "things.remove(\"salmonella\")\n",
    "print(things)"
   ],
   "outputs": [
    {
     "name": "stdout",
     "output_type": "stream",
     "text": [
      "['MOZZARELLA', 'Cinderella']\n"
     ]
    }
   ],
   "execution_count": 7
  },
  {
   "metadata": {},
   "cell_type": "markdown",
   "source": "9.1,9.2",
   "id": "50b54f183ff8d1dd"
  },
  {
   "metadata": {
    "ExecuteTime": {
     "end_time": "2025-02-04T04:42:58.412501Z",
     "start_time": "2025-02-04T04:42:58.405964Z"
    }
   },
   "cell_type": "code",
   "source": [
    "def good():\n",
    "    wizards = [\"Harry\", \"Ron\", \"Hermione\"]\n",
    "    return wizards\n",
    " \n",
    "good()"
   ],
   "id": "a4093d2e77f188cc",
   "outputs": [
    {
     "data": {
      "text/plain": [
       "['Harry', 'Ron', 'Hermione']"
      ]
     },
     "execution_count": 10,
     "metadata": {},
     "output_type": "execute_result"
    }
   ],
   "execution_count": 10
  },
  {
   "metadata": {
    "ExecuteTime": {
     "end_time": "2025-02-04T04:51:04.955292Z",
     "start_time": "2025-02-04T04:51:04.952204Z"
    }
   },
   "cell_type": "code",
   "source": [
    "def get_odds():\n",
    "    for n in range(10):\n",
    "        if n % 2 != 0:\n",
    "            yield n\n",
    "      \n",
    "count = 0      \n",
    "for odds in get_odds():\n",
    "    count += 1\n",
    "    if count == 3:\n",
    "        print(odds)\n",
    "        break"
   ],
   "id": "bf34f674118c4759",
   "outputs": [
    {
     "name": "stdout",
     "output_type": "stream",
     "text": [
      "5\n"
     ]
    }
   ],
   "execution_count": 13
  }
 ],
 "metadata": {
  "kernelspec": {
   "display_name": "Python 3",
   "language": "python",
   "name": "python3"
  },
  "language_info": {
   "codemirror_mode": {
    "name": "ipython",
    "version": 2
   },
   "file_extension": ".py",
   "mimetype": "text/x-python",
   "name": "python",
   "nbconvert_exporter": "python",
   "pygments_lexer": "ipython2",
   "version": "2.7.6"
  }
 },
 "nbformat": 4,
 "nbformat_minor": 5
}
