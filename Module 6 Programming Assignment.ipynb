{
 "cells": [
  {
   "metadata": {},
   "cell_type": "markdown",
   "source": "13.1, 13.2, 12.3",
   "id": "1311578d98a69930"
  },
  {
   "cell_type": "code",
   "id": "initial_id",
   "metadata": {
    "collapsed": true,
    "ExecuteTime": {
     "end_time": "2025-02-24T19:59:26.957064Z",
     "start_time": "2025-02-24T19:59:26.951684Z"
    }
   },
   "source": [
    "from datetime import date, datetime\n",
    "\n",
    "date = date.today()\n",
    "with open(\"today.txt\", \"w\") as file:\n",
    "    file.write(date.strftime(\"%Y-%m-%d\"))\n",
    "with open(\"today.txt\", \"r\") as file:\n",
    "    today_string = file.read()\n",
    "\n",
    "print(today_string)\n",
    "parsed_date = datetime.strptime(today_string, \"%Y-%m-%d\").date()\n",
    "\n",
    "print(parsed_date)"
   ],
   "outputs": [
    {
     "name": "stdout",
     "output_type": "stream",
     "text": [
      "2025-02-24\n",
      "2025-02-24\n"
     ]
    }
   ],
   "execution_count": 3
  },
  {
   "metadata": {},
   "cell_type": "markdown",
   "source": "15.1",
   "id": "1e022c1a8ac20fe1"
  },
  {
   "metadata": {
    "ExecuteTime": {
     "end_time": "2025-02-24T20:24:04.454645Z",
     "start_time": "2025-02-24T20:24:04.452826Z"
    }
   },
   "cell_type": "code",
   "source": "",
   "id": "2e4bb418d404a908",
   "outputs": [],
   "execution_count": 1
  }
 ],
 "metadata": {
  "kernelspec": {
   "display_name": "Python 3",
   "language": "python",
   "name": "python3"
  },
  "language_info": {
   "codemirror_mode": {
    "name": "ipython",
    "version": 2
   },
   "file_extension": ".py",
   "mimetype": "text/x-python",
   "name": "python",
   "nbconvert_exporter": "python",
   "pygments_lexer": "ipython2",
   "version": "2.7.6"
  }
 },
 "nbformat": 4,
 "nbformat_minor": 5
}
