{
 "cells": [
  {
   "metadata": {},
   "cell_type": "markdown",
   "source": "11.1, 11.2",
   "id": "93304b434225ded4"
  },
  {
   "cell_type": "code",
   "id": "initial_id",
   "metadata": {
    "collapsed": true,
    "ExecuteTime": {
     "end_time": "2025-02-10T22:03:29.584181Z",
     "start_time": "2025-02-10T22:03:29.581630Z"
    }
   },
   "source": [
    "import zoo as menagerie\n",
    "menagerie.hours()"
   ],
   "outputs": [
    {
     "name": "stdout",
     "output_type": "stream",
     "text": [
      "Open 9-5 Daily\n"
     ]
    }
   ],
   "execution_count": 3
  },
  {
   "metadata": {},
   "cell_type": "markdown",
   "source": "16.8",
   "id": "6b6534fc8650a456"
  },
  {
   "metadata": {
    "ExecuteTime": {
     "end_time": "2025-02-10T22:37:49.677157Z",
     "start_time": "2025-02-10T22:37:49.668243Z"
    }
   },
   "cell_type": "code",
   "source": [
    "import csv\n",
    "with open('books.csv', 'rt') as fin:\n",
    "    cin = csv.DictReader(fin)\n",
    "    books = [row for row in cin]\n",
    "print(books)"
   ],
   "id": "5cf8aba2a2baad8b",
   "outputs": [
    {
     "name": "stdout",
     "output_type": "stream",
     "text": [
      "[{'author': 'J R R Tolkien', 'book': 'The Hobbit'}, {'author': 'Lynne Truss', 'book': 'Eats, Shoots & Leaves'}]\n"
     ]
    }
   ],
   "execution_count": 4
  },
  {
   "metadata": {},
   "cell_type": "code",
   "outputs": [],
   "execution_count": null,
   "source": [
    "import sqlite3\n",
    "\n",
    "conn = sqlite3.connect('books.db')\n",
    "curs = conn.cursor()\n",
    "curs.execute('''CREATE TABLE books\n",
    "    (title VARCHAR(40) PRIMARY KEY,\n",
    "     author VARCHAR(40),\n",
    "     year INT)''')\n",
    "\n"
   ],
   "id": "33e22a442ddfa5da"
  }
 ],
 "metadata": {
  "kernelspec": {
   "display_name": "Python 3",
   "language": "python",
   "name": "python3"
  },
  "language_info": {
   "codemirror_mode": {
    "name": "ipython",
    "version": 2
   },
   "file_extension": ".py",
   "mimetype": "text/x-python",
   "name": "python",
   "nbconvert_exporter": "python",
   "pygments_lexer": "ipython2",
   "version": "2.7.6"
  }
 },
 "nbformat": 4,
 "nbformat_minor": 5
}
