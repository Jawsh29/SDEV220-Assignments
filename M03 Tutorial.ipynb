{
 "cells": [
  {
   "metadata": {},
   "cell_type": "markdown",
   "source": "Sorting Activity",
   "id": "11eabff7b78428dd"
  },
  {
   "metadata": {
    "ExecuteTime": {
     "end_time": "2025-02-04T02:33:28.553665Z",
     "start_time": "2025-02-04T02:33:28.550769Z"
    }
   },
   "cell_type": "code",
   "source": [
    "def sort(array):\n",
    "    for i in range(1, len(array)):\n",
    "        key = array[i]\n",
    "        j = i - 1\n",
    "        while j >= 0 and array[j] > key:\n",
    "            array[j + 1] = array[j]\n",
    "            j -= 1\n",
    "        array[j + 1] = key\n",
    "    return array\n",
    "\n",
    "array = [2,1,1,0,2,0,1,1]\n",
    "print(sort(array))"
   ],
   "id": "4fb4ceb5ca61570e",
   "outputs": [
    {
     "name": "stdout",
     "output_type": "stream",
     "text": [
      "[0, 0, 1, 1, 1, 1, 2, 2]\n"
     ]
    }
   ],
   "execution_count": 2
  },
  {
   "metadata": {},
   "cell_type": "markdown",
   "source": "Binary Search",
   "id": "59d0c3f0a051a026"
  },
  {
   "metadata": {
    "ExecuteTime": {
     "end_time": "2025-02-04T02:41:55.445330Z",
     "start_time": "2025-02-04T02:41:55.439928Z"
    }
   },
   "cell_type": "code",
   "source": [
    "def binary_search(array, start, end, target):\n",
    "     while start <= end:\n",
    "         mid = (start + end) // 2\n",
    "         if array[mid] < target:\n",
    "             start = mid + 1\n",
    "         elif array[mid] > target:\n",
    "             end = mid - 1\n",
    "         else:\n",
    "             return mid\n",
    "     return start\n",
    "\n",
    "array = [1,2,3,4,5,6,7,8,9,10,11,12,13,14,15]\n",
    "target = 10\n",
    "print(\"Element Is Present At Array Index: \", + binary_search(array, 0, len(array) - 1, target))"
   ],
   "id": "d217a78efcfdbdd5",
   "outputs": [
    {
     "name": "stdout",
     "output_type": "stream",
     "text": [
      "Element Is Present At Array Index:  9\n"
     ]
    }
   ],
   "execution_count": 3
  }
 ],
 "metadata": {
  "kernelspec": {
   "display_name": "Python 3",
   "language": "python",
   "name": "python3"
  },
  "language_info": {
   "codemirror_mode": {
    "name": "ipython",
    "version": 2
   },
   "file_extension": ".py",
   "mimetype": "text/x-python",
   "name": "python",
   "nbconvert_exporter": "python",
   "pygments_lexer": "ipython2",
   "version": "2.7.6"
  }
 },
 "nbformat": 4,
 "nbformat_minor": 5
}
