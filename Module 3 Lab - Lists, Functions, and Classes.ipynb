{
 "cells": [
  {
   "cell_type": "code",
   "id": "initial_id",
   "metadata": {
    "collapsed": true,
    "ExecuteTime": {
     "end_time": "2025-02-04T03:49:26.709053Z",
     "start_time": "2025-02-04T03:48:56.442856Z"
    }
   },
   "source": [
    "class Vehicle:\n",
    "    def __init__(self, type=None):\n",
    "        self.type = type\n",
    "        \n",
    "    def get_type(self):\n",
    "        self.type = input(\"Enter the type of vehicle: \")\n",
    "        \n",
    "class Automobile(Vehicle):\n",
    "    def __init__(self, type=None, year=None, make=None, model=None, doors=None, roof=None):\n",
    "        super().__init__(type)\n",
    "        self.year = year            \n",
    "        self.make = make\n",
    "        self.model = model\n",
    "        self.doors = doors\n",
    "        self.roof = roof\n",
    "        \n",
    "    def get_info(self):\n",
    "        self.get_type()\n",
    "        self.year = input(\"Enter Year: \")\n",
    "        self.make = input(\"Enter Make: \")\n",
    "        self.model = input(\"Enter Model: \")\n",
    "        self.doors = input(\"Enter Doors: \")\n",
    "        self.roof = input(\"Enter Roof: \")\n",
    "    \n",
    "    def display_info(self):\n",
    "        print(f\"Vehicle Type: {self.type}\\n\"\n",
    "      f\"Year: {self.year}\\n\"\n",
    "      f\"Make: {self.make}\\n\"\n",
    "      f\"Model: {self.model}\\n\"\n",
    "      f\"Number of Doors: {self.doors}\\n\"\n",
    "      f\"Type of roof: {self.roof}\")\n",
    "        \n",
    "car = Automobile()\n",
    "car.get_info()\n",
    "car.display_info()\n",
    "\n"
   ],
   "outputs": [
    {
     "name": "stdout",
     "output_type": "stream",
     "text": [
      "Vehicle Type: car\n",
      "Year: 2022\n",
      "Make: toyota\n",
      "Model: corolla\n",
      "Number of Doors: 4\n",
      "Type of roof: sun roof\n"
     ]
    }
   ],
   "execution_count": 4
  }
 ],
 "metadata": {
  "kernelspec": {
   "display_name": "Python 3",
   "language": "python",
   "name": "python3"
  },
  "language_info": {
   "codemirror_mode": {
    "name": "ipython",
    "version": 2
   },
   "file_extension": ".py",
   "mimetype": "text/x-python",
   "name": "python",
   "nbconvert_exporter": "python",
   "pygments_lexer": "ipython2",
   "version": "2.7.6"
  }
 },
 "nbformat": 4,
 "nbformat_minor": 5
}
